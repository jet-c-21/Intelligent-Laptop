{
 "cells": [
  {
   "cell_type": "markdown",
   "metadata": {},
   "source": [
    "# Import Our program"
   ]
  },
  {
   "cell_type": "code",
   "execution_count": 1,
   "metadata": {},
   "outputs": [],
   "source": [
    "from face_ult.model_updater import ModelUpdater"
   ]
  },
  {
   "cell_type": "code",
   "execution_count": 2,
   "metadata": {},
   "outputs": [],
   "source": [
    "mu = ModelUpdater()"
   ]
  },
  {
   "cell_type": "markdown",
   "metadata": {},
   "source": [
    "# Load the face data of the master"
   ]
  },
  {
   "cell_type": "code",
   "execution_count": 3,
   "metadata": {},
   "outputs": [
    {
     "name": "stderr",
     "output_type": "stream",
     "text": [
      "  1%|          | 6/561 [00:00<01:11,  7.82it/s]"
     ]
    },
    {
     "name": "stdout",
     "output_type": "stream",
     "text": [
      "[WARN] face_ult.recog_tool ♦ failed to get face-embed cuz FaceCapture can't capture any faces\n"
     ]
    },
    {
     "name": "stderr",
     "output_type": "stream",
     "text": [
      "  2%|▏         | 10/561 [00:01<01:00,  9.12it/s]"
     ]
    },
    {
     "name": "stdout",
     "output_type": "stream",
     "text": [
      "[WARN] face_ult.recog_tool ♦ failed to get face-embed cuz FaceCapture can't capture any faces\n"
     ]
    },
    {
     "name": "stderr",
     "output_type": "stream",
     "text": [
      "  6%|▌         | 31/561 [00:03<00:55,  9.50it/s]"
     ]
    },
    {
     "name": "stdout",
     "output_type": "stream",
     "text": [
      "[WARN] face_ult.recog_tool ♦ failed to get face-embed cuz FaceCapture can't capture any faces\n"
     ]
    },
    {
     "name": "stderr",
     "output_type": "stream",
     "text": [
      "  7%|▋         | 38/561 [00:04<00:55,  9.50it/s]"
     ]
    },
    {
     "name": "stdout",
     "output_type": "stream",
     "text": [
      "[WARN] face_ult.recog_tool ♦ failed to get face-embed cuz FaceCapture can't capture any faces\n"
     ]
    },
    {
     "name": "stderr",
     "output_type": "stream",
     "text": [
      "  9%|▉         | 53/561 [00:05<00:55,  9.14it/s]"
     ]
    },
    {
     "name": "stdout",
     "output_type": "stream",
     "text": [
      "[WARN] face_ult.recog_tool ♦ failed to get face-embed cuz FaceCapture can't capture any faces\n"
     ]
    },
    {
     "name": "stderr",
     "output_type": "stream",
     "text": [
      " 10%|▉         | 56/561 [00:06<00:56,  8.92it/s]"
     ]
    },
    {
     "name": "stdout",
     "output_type": "stream",
     "text": [
      "[WARN] face_ult.recog_tool ♦ failed to get face-embed cuz FaceCapture can't capture any faces\n"
     ]
    },
    {
     "name": "stderr",
     "output_type": "stream",
     "text": [
      " 12%|█▏        | 66/561 [00:07<01:04,  7.68it/s]"
     ]
    },
    {
     "name": "stdout",
     "output_type": "stream",
     "text": [
      "[WARN] face_ult.recog_tool ♦ failed to get face-embed cuz FaceCapture can't capture any faces\n"
     ]
    },
    {
     "name": "stderr",
     "output_type": "stream",
     "text": [
      " 17%|█▋        | 94/561 [00:11<00:54,  8.51it/s]"
     ]
    },
    {
     "name": "stdout",
     "output_type": "stream",
     "text": [
      "[WARN] face_ult.recog_tool ♦ failed to get face-embed cuz FaceCapture can't capture any faces\n"
     ]
    },
    {
     "name": "stderr",
     "output_type": "stream",
     "text": [
      " 19%|█▉        | 107/561 [00:12<00:52,  8.73it/s]"
     ]
    },
    {
     "name": "stdout",
     "output_type": "stream",
     "text": [
      "[WARN] face_ult.recog_tool ♦ failed to get face-embed cuz FaceCapture can't capture any faces\n"
     ]
    },
    {
     "name": "stderr",
     "output_type": "stream",
     "text": [
      " 26%|██▌       | 144/561 [00:16<00:43,  9.63it/s]"
     ]
    },
    {
     "name": "stdout",
     "output_type": "stream",
     "text": [
      "[WARN] face_ult.recog_tool ♦ failed to get face-embed cuz FaceCapture can't capture any faces\n"
     ]
    },
    {
     "name": "stderr",
     "output_type": "stream",
     "text": [
      " 27%|██▋       | 151/561 [00:17<00:43,  9.42it/s]"
     ]
    },
    {
     "name": "stdout",
     "output_type": "stream",
     "text": [
      "[WARN] face_ult.recog_tool ♦ failed to get face-embed cuz FaceCapture can't capture any faces\n"
     ]
    },
    {
     "name": "stderr",
     "output_type": "stream",
     "text": [
      " 28%|██▊       | 157/561 [00:18<00:42,  9.44it/s]"
     ]
    },
    {
     "name": "stdout",
     "output_type": "stream",
     "text": [
      "[WARN] face_ult.recog_tool ♦ failed to get face-embed cuz FaceCapture can't capture any faces\n"
     ]
    },
    {
     "name": "stderr",
     "output_type": "stream",
     "text": [
      " 33%|███▎      | 183/561 [00:21<00:45,  8.32it/s]"
     ]
    },
    {
     "name": "stdout",
     "output_type": "stream",
     "text": [
      "[WARN] face_ult.recog_tool ♦ failed to get face-embed cuz FaceCapture can't capture any faces\n"
     ]
    },
    {
     "name": "stderr",
     "output_type": "stream",
     "text": [
      " 33%|███▎      | 186/561 [00:21<00:48,  7.69it/s]"
     ]
    },
    {
     "name": "stdout",
     "output_type": "stream",
     "text": [
      "[WARN] face_ult.recog_tool ♦ failed to get face-embed cuz FaceCapture can't capture any faces\n"
     ]
    },
    {
     "name": "stderr",
     "output_type": "stream",
     "text": [
      " 38%|███▊      | 213/561 [00:25<00:40,  8.54it/s]"
     ]
    },
    {
     "name": "stdout",
     "output_type": "stream",
     "text": [
      "[WARN] face_ult.recog_tool ♦ failed to get face-embed cuz FaceCapture can't capture any faces\n",
      "[WARN] face_ult.recog_tool ♦ failed to get face-embed cuz FaceCapture can't capture any faces\n"
     ]
    },
    {
     "name": "stderr",
     "output_type": "stream",
     "text": [
      " 41%|████▏     | 232/561 [00:27<00:36,  9.02it/s]"
     ]
    },
    {
     "name": "stdout",
     "output_type": "stream",
     "text": [
      "[WARN] face_ult.recog_tool ♦ failed to get face-embed cuz FaceCapture can't capture any faces\n"
     ]
    },
    {
     "name": "stderr",
     "output_type": "stream",
     "text": [
      " 42%|████▏     | 236/561 [00:27<00:38,  8.50it/s]"
     ]
    },
    {
     "name": "stdout",
     "output_type": "stream",
     "text": [
      "[WARN] face_ult.recog_tool ♦ failed to get face-embed cuz FaceCapture can't capture any faces\n"
     ]
    },
    {
     "name": "stderr",
     "output_type": "stream",
     "text": [
      " 52%|█████▏    | 292/561 [00:34<00:31,  8.45it/s]"
     ]
    },
    {
     "name": "stdout",
     "output_type": "stream",
     "text": [
      "[WARN] face_ult.recog_tool ♦ failed to get face-embed cuz FaceCapture can't capture any faces\n"
     ]
    },
    {
     "name": "stderr",
     "output_type": "stream",
     "text": [
      " 53%|█████▎    | 296/561 [00:34<00:30,  8.71it/s]"
     ]
    },
    {
     "name": "stdout",
     "output_type": "stream",
     "text": [
      "[WARN] face_ult.recog_tool ♦ failed to get face-embed cuz FaceCapture can't capture any faces\n"
     ]
    },
    {
     "name": "stderr",
     "output_type": "stream",
     "text": [
      " 54%|█████▍    | 304/561 [00:35<00:26,  9.77it/s]"
     ]
    },
    {
     "name": "stdout",
     "output_type": "stream",
     "text": [
      "[WARN] face_ult.recog_tool ♦ failed to get face-embed cuz FaceCapture can't capture any faces\n"
     ]
    },
    {
     "name": "stderr",
     "output_type": "stream",
     "text": [
      " 57%|█████▋    | 318/561 [00:37<00:29,  8.12it/s]"
     ]
    },
    {
     "name": "stdout",
     "output_type": "stream",
     "text": [
      "[WARN] face_ult.recog_tool ♦ failed to get face-embed cuz FaceCapture can't capture any faces\n"
     ]
    },
    {
     "name": "stderr",
     "output_type": "stream",
     "text": [
      " 60%|█████▉    | 334/561 [00:39<00:23,  9.53it/s]"
     ]
    },
    {
     "name": "stdout",
     "output_type": "stream",
     "text": [
      "[WARN] face_ult.recog_tool ♦ failed to get face-embed cuz FaceCapture can't capture any faces\n"
     ]
    },
    {
     "name": "stderr",
     "output_type": "stream",
     "text": [
      " 65%|██████▍   | 363/561 [00:43<00:24,  8.25it/s]"
     ]
    },
    {
     "name": "stdout",
     "output_type": "stream",
     "text": [
      "[WARN] face_ult.recog_tool ♦ failed to get face-embed cuz FaceCapture can't capture any faces\n"
     ]
    },
    {
     "name": "stderr",
     "output_type": "stream",
     "text": [
      " 65%|██████▌   | 366/561 [00:43<00:20,  9.53it/s]"
     ]
    },
    {
     "name": "stdout",
     "output_type": "stream",
     "text": [
      "[WARN] face_ult.recog_tool ♦ failed to get face-embed cuz FaceCapture can't capture any faces\n"
     ]
    },
    {
     "name": "stderr",
     "output_type": "stream",
     "text": [
      " 67%|██████▋   | 375/561 [00:44<00:23,  7.82it/s]"
     ]
    },
    {
     "name": "stdout",
     "output_type": "stream",
     "text": [
      "[WARN] face_ult.recog_tool ♦ failed to get face-embed cuz FaceCapture can't capture any faces\n"
     ]
    },
    {
     "name": "stderr",
     "output_type": "stream",
     "text": [
      " 67%|██████▋   | 378/561 [00:44<00:18,  9.65it/s]"
     ]
    },
    {
     "name": "stdout",
     "output_type": "stream",
     "text": [
      "[WARN] face_ult.recog_tool ♦ failed to get face-embed cuz FaceCapture can't capture any faces\n"
     ]
    },
    {
     "name": "stderr",
     "output_type": "stream",
     "text": [
      " 70%|███████   | 393/561 [00:46<00:19,  8.78it/s]"
     ]
    },
    {
     "name": "stdout",
     "output_type": "stream",
     "text": [
      "[WARN] face_ult.recog_tool ♦ failed to get face-embed cuz FaceCapture can't capture any faces\n"
     ]
    },
    {
     "name": "stderr",
     "output_type": "stream",
     "text": [
      " 76%|███████▌  | 424/561 [00:50<00:13, 10.25it/s]"
     ]
    },
    {
     "name": "stdout",
     "output_type": "stream",
     "text": [
      "[WARN] face_ult.recog_tool ♦ failed to get face-embed cuz FaceCapture can't capture any faces\n"
     ]
    },
    {
     "name": "stderr",
     "output_type": "stream",
     "text": [
      " 78%|███████▊  | 436/561 [00:51<00:13,  9.16it/s]"
     ]
    },
    {
     "name": "stdout",
     "output_type": "stream",
     "text": [
      "[WARN] face_ult.recog_tool ♦ failed to get face-embed cuz FaceCapture can't capture any faces\n"
     ]
    },
    {
     "name": "stderr",
     "output_type": "stream",
     "text": [
      " 79%|███████▉  | 444/561 [00:52<00:12,  9.51it/s]"
     ]
    },
    {
     "name": "stdout",
     "output_type": "stream",
     "text": [
      "[WARN] face_ult.recog_tool ♦ failed to get face-embed cuz FaceCapture can't capture any faces\n"
     ]
    },
    {
     "name": "stderr",
     "output_type": "stream",
     "text": [
      " 80%|████████  | 450/561 [00:53<00:10, 10.66it/s]"
     ]
    },
    {
     "name": "stdout",
     "output_type": "stream",
     "text": [
      "[WARN] face_ult.recog_tool ♦ failed to get face-embed cuz FaceCapture can't capture any faces\n"
     ]
    },
    {
     "name": "stderr",
     "output_type": "stream",
     "text": [
      " 82%|████████▏ | 458/561 [00:54<00:10,  9.76it/s]"
     ]
    },
    {
     "name": "stdout",
     "output_type": "stream",
     "text": [
      "[WARN] face_ult.recog_tool ♦ failed to get face-embed cuz FaceCapture can't capture any faces\n"
     ]
    },
    {
     "name": "stderr",
     "output_type": "stream",
     "text": [
      " 88%|████████▊ | 496/561 [00:58<00:07,  9.20it/s]"
     ]
    },
    {
     "name": "stdout",
     "output_type": "stream",
     "text": [
      "[WARN] face_ult.recog_tool ♦ failed to get face-embed cuz FaceCapture can't capture any faces\n"
     ]
    },
    {
     "name": "stderr",
     "output_type": "stream",
     "text": [
      " 91%|█████████▏| 513/561 [01:00<00:04, 10.26it/s]"
     ]
    },
    {
     "name": "stdout",
     "output_type": "stream",
     "text": [
      "[WARN] face_ult.recog_tool ♦ failed to get face-embed cuz FaceCapture can't capture any faces\n"
     ]
    },
    {
     "name": "stderr",
     "output_type": "stream",
     "text": [
      " 93%|█████████▎| 520/561 [01:00<00:04, 10.12it/s]"
     ]
    },
    {
     "name": "stdout",
     "output_type": "stream",
     "text": [
      "[WARN] face_ult.recog_tool ♦ failed to get face-embed cuz FaceCapture can't capture any faces\n"
     ]
    },
    {
     "name": "stderr",
     "output_type": "stream",
     "text": [
      "100%|█████████▉| 559/561 [01:05<00:00,  7.76it/s]"
     ]
    },
    {
     "name": "stdout",
     "output_type": "stream",
     "text": [
      "[WARN] face_ult.recog_tool ♦ failed to get face-embed cuz FaceCapture can't capture any faces\n"
     ]
    },
    {
     "name": "stderr",
     "output_type": "stream",
     "text": [
      "100%|██████████| 561/561 [01:05<00:00,  8.53it/s]\n"
     ]
    }
   ],
   "source": [
    "mu.load_master_data()"
   ]
  },
  {
   "cell_type": "code",
   "execution_count": 4,
   "metadata": {},
   "outputs": [
    {
     "data": {
      "text/plain": [
       "524"
      ]
     },
     "execution_count": 4,
     "metadata": {},
     "output_type": "execute_result"
    }
   ],
   "source": [
    "mu.master_count"
   ]
  },
  {
   "cell_type": "markdown",
   "metadata": {},
   "source": [
    "# Load the data of our artist dataset"
   ]
  },
  {
   "cell_type": "code",
   "execution_count": 5,
   "metadata": {},
   "outputs": [
    {
     "name": "stderr",
     "output_type": "stream",
     "text": [
      "  1%|          | 54/10422 [00:05<14:16, 12.11it/s]"
     ]
    },
    {
     "name": "stdout",
     "output_type": "stream",
     "text": [
      "[WARN] face_ult.recog_tool ♦ failed to get face-embed cuz FaceCapture can't capture any faces\n"
     ]
    },
    {
     "name": "stderr",
     "output_type": "stream",
     "text": [
      "  1%|          | 82/10422 [00:07<13:01, 13.24it/s]"
     ]
    },
    {
     "name": "stdout",
     "output_type": "stream",
     "text": [
      "[WARN] face_ult.recog_tool ♦ failed to get face-embed cuz FaceCapture can't capture any faces\n"
     ]
    },
    {
     "name": "stderr",
     "output_type": "stream",
     "text": [
      "  2%|▏         | 179/10422 [00:16<13:47, 12.38it/s]"
     ]
    },
    {
     "name": "stdout",
     "output_type": "stream",
     "text": [
      "[WARN] face_ult.recog_tool ♦ failed to get face-embed cuz FaceCapture can't capture any faces\n"
     ]
    },
    {
     "name": "stderr",
     "output_type": "stream",
     "text": [
      "  2%|▏         | 225/10422 [00:20<15:57, 10.65it/s]"
     ]
    },
    {
     "name": "stdout",
     "output_type": "stream",
     "text": [
      "[WARN] face_ult.recog_tool ♦ failed to get face-embed cuz FaceCapture can't capture any faces\n"
     ]
    },
    {
     "name": "stderr",
     "output_type": "stream",
     "text": [
      "  3%|▎         | 286/10422 [00:26<14:27, 11.68it/s]"
     ]
    },
    {
     "name": "stdout",
     "output_type": "stream",
     "text": [
      "[WARN] face_ult.recog_tool ♦ failed to get face-embed cuz FaceCapture can't capture any faces\n"
     ]
    },
    {
     "name": "stderr",
     "output_type": "stream",
     "text": [
      "  5%|▍         | 493/10422 [00:44<13:14, 12.50it/s]"
     ]
    },
    {
     "name": "stdout",
     "output_type": "stream",
     "text": [
      "[WARN] face_ult.recog_tool ♦ failed to get face-embed cuz FaceCapture can't capture any faces\n"
     ]
    },
    {
     "name": "stderr",
     "output_type": "stream",
     "text": [
      "  5%|▌         | 529/10422 [00:48<14:59, 11.00it/s]\n"
     ]
    }
   ],
   "source": [
    "mu.load_stranger_data()"
   ]
  },
  {
   "cell_type": "code",
   "execution_count": 6,
   "metadata": {},
   "outputs": [
    {
     "data": {
      "text/plain": [
       "524"
      ]
     },
     "execution_count": 6,
     "metadata": {},
     "output_type": "execute_result"
    }
   ],
   "source": [
    "mu.stranger_count"
   ]
  },
  {
   "cell_type": "markdown",
   "metadata": {},
   "source": [
    "# GridSearch"
   ]
  },
  {
   "cell_type": "code",
   "execution_count": 7,
   "metadata": {},
   "outputs": [],
   "source": [
    "from sklearn import datasets\n",
    "from sklearn.model_selection import train_test_split\n",
    "from sklearn.model_selection import GridSearchCV\n",
    "from sklearn.metrics import classification_report\n",
    "from sklearn.svm import SVC"
   ]
  },
  {
   "cell_type": "code",
   "execution_count": 8,
   "metadata": {},
   "outputs": [],
   "source": [
    "def warn(*args, **kwargs):\n",
    "    pass\n",
    "import warnings\n",
    "warnings.warn = warn"
   ]
  },
  {
   "cell_type": "code",
   "execution_count": 9,
   "metadata": {},
   "outputs": [],
   "source": [
    "X = mu.X\n",
    "y = mu.y"
   ]
  },
  {
   "cell_type": "code",
   "execution_count": 10,
   "metadata": {},
   "outputs": [],
   "source": [
    "X_train, X_test, y_train, y_test = train_test_split(\n",
    "    X, y, test_size=0.5, random_state=777)"
   ]
  },
  {
   "cell_type": "code",
   "execution_count": 11,
   "metadata": {},
   "outputs": [],
   "source": [
    "tuned_parameters = [\n",
    "    {\n",
    "        'kernel': ['rbf', 'sigmod'], \n",
    "        'gamma': [1e-3, 1e-4, 1e-5, 'scale', 'auto'],\n",
    "        'C': [1, 10, 100, 1000]\n",
    "    }\n",
    "]\n",
    "\n",
    "scores = ['precision', 'recall']"
   ]
  },
  {
   "cell_type": "code",
   "execution_count": 12,
   "metadata": {},
   "outputs": [
    {
     "name": "stdout",
     "output_type": "stream",
     "text": [
      "# Tuning hyper-parameters for precision\n",
      "\n",
      "Best parameters set found on development set:\n",
      "\n",
      "{'C': 10, 'gamma': 'scale', 'kernel': 'rbf'}\n",
      "\n",
      "Grid scores on development set:\n",
      "\n",
      "0.256 (+/-0.004) for {'C': 1, 'gamma': 0.001, 'kernel': 'rbf'}\n",
      "nan (+/-nan) for {'C': 1, 'gamma': 0.001, 'kernel': 'sigmod'}\n",
      "0.256 (+/-0.004) for {'C': 1, 'gamma': 0.0001, 'kernel': 'rbf'}\n",
      "nan (+/-nan) for {'C': 1, 'gamma': 0.0001, 'kernel': 'sigmod'}\n",
      "0.256 (+/-0.004) for {'C': 1, 'gamma': 1e-05, 'kernel': 'rbf'}\n",
      "nan (+/-nan) for {'C': 1, 'gamma': 1e-05, 'kernel': 'sigmod'}\n",
      "0.899 (+/-0.059) for {'C': 1, 'gamma': 'scale', 'kernel': 'rbf'}\n",
      "nan (+/-nan) for {'C': 1, 'gamma': 'scale', 'kernel': 'sigmod'}\n",
      "0.775 (+/-0.048) for {'C': 1, 'gamma': 'auto', 'kernel': 'rbf'}\n",
      "nan (+/-nan) for {'C': 1, 'gamma': 'auto', 'kernel': 'sigmod'}\n",
      "0.796 (+/-0.110) for {'C': 10, 'gamma': 0.001, 'kernel': 'rbf'}\n",
      "nan (+/-nan) for {'C': 10, 'gamma': 0.001, 'kernel': 'sigmod'}\n",
      "0.256 (+/-0.004) for {'C': 10, 'gamma': 0.0001, 'kernel': 'rbf'}\n",
      "nan (+/-nan) for {'C': 10, 'gamma': 0.0001, 'kernel': 'sigmod'}\n",
      "0.256 (+/-0.004) for {'C': 10, 'gamma': 1e-05, 'kernel': 'rbf'}\n",
      "nan (+/-nan) for {'C': 10, 'gamma': 1e-05, 'kernel': 'sigmod'}\n",
      "0.923 (+/-0.059) for {'C': 10, 'gamma': 'scale', 'kernel': 'rbf'}\n",
      "nan (+/-nan) for {'C': 10, 'gamma': 'scale', 'kernel': 'sigmod'}\n",
      "0.856 (+/-0.058) for {'C': 10, 'gamma': 'auto', 'kernel': 'rbf'}\n",
      "nan (+/-nan) for {'C': 10, 'gamma': 'auto', 'kernel': 'sigmod'}\n",
      "0.864 (+/-0.057) for {'C': 100, 'gamma': 0.001, 'kernel': 'rbf'}\n",
      "nan (+/-nan) for {'C': 100, 'gamma': 0.001, 'kernel': 'sigmod'}\n",
      "0.796 (+/-0.110) for {'C': 100, 'gamma': 0.0001, 'kernel': 'rbf'}\n",
      "nan (+/-nan) for {'C': 100, 'gamma': 0.0001, 'kernel': 'sigmod'}\n",
      "0.256 (+/-0.004) for {'C': 100, 'gamma': 1e-05, 'kernel': 'rbf'}\n",
      "nan (+/-nan) for {'C': 100, 'gamma': 1e-05, 'kernel': 'sigmod'}\n",
      "0.914 (+/-0.049) for {'C': 100, 'gamma': 'scale', 'kernel': 'rbf'}\n",
      "nan (+/-nan) for {'C': 100, 'gamma': 'scale', 'kernel': 'sigmod'}\n",
      "0.882 (+/-0.067) for {'C': 100, 'gamma': 'auto', 'kernel': 'rbf'}\n",
      "nan (+/-nan) for {'C': 100, 'gamma': 'auto', 'kernel': 'sigmod'}\n",
      "0.884 (+/-0.071) for {'C': 1000, 'gamma': 0.001, 'kernel': 'rbf'}\n",
      "nan (+/-nan) for {'C': 1000, 'gamma': 0.001, 'kernel': 'sigmod'}\n",
      "0.864 (+/-0.057) for {'C': 1000, 'gamma': 0.0001, 'kernel': 'rbf'}\n",
      "nan (+/-nan) for {'C': 1000, 'gamma': 0.0001, 'kernel': 'sigmod'}\n",
      "0.796 (+/-0.110) for {'C': 1000, 'gamma': 1e-05, 'kernel': 'rbf'}\n",
      "nan (+/-nan) for {'C': 1000, 'gamma': 1e-05, 'kernel': 'sigmod'}\n",
      "0.914 (+/-0.049) for {'C': 1000, 'gamma': 'scale', 'kernel': 'rbf'}\n",
      "nan (+/-nan) for {'C': 1000, 'gamma': 'scale', 'kernel': 'sigmod'}\n",
      "0.900 (+/-0.037) for {'C': 1000, 'gamma': 'auto', 'kernel': 'rbf'}\n",
      "nan (+/-nan) for {'C': 1000, 'gamma': 'auto', 'kernel': 'sigmod'}\n",
      "\n",
      "Detailed classification report:\n",
      "\n",
      "The model is trained on the full development set.\n",
      "The scores are computed on the full evaluation set.\n",
      "\n",
      "              precision    recall  f1-score   support\n",
      "\n",
      "           0       0.95      0.94      0.94       256\n",
      "           1       0.94      0.95      0.95       268\n",
      "\n",
      "    accuracy                           0.94       524\n",
      "   macro avg       0.94      0.94      0.94       524\n",
      "weighted avg       0.94      0.94      0.94       524\n",
      "\n",
      "# Tuning hyper-parameters for recall\n",
      "\n",
      "Best parameters set found on development set:\n",
      "\n",
      "{'C': 10, 'gamma': 'scale', 'kernel': 'rbf'}\n",
      "\n",
      "Grid scores on development set:\n",
      "\n",
      "0.500 (+/-0.000) for {'C': 1, 'gamma': 0.001, 'kernel': 'rbf'}\n",
      "nan (+/-nan) for {'C': 1, 'gamma': 0.001, 'kernel': 'sigmod'}\n",
      "0.500 (+/-0.000) for {'C': 1, 'gamma': 0.0001, 'kernel': 'rbf'}\n",
      "nan (+/-nan) for {'C': 1, 'gamma': 0.0001, 'kernel': 'sigmod'}\n",
      "0.500 (+/-0.000) for {'C': 1, 'gamma': 1e-05, 'kernel': 'rbf'}\n",
      "nan (+/-nan) for {'C': 1, 'gamma': 1e-05, 'kernel': 'sigmod'}\n",
      "0.894 (+/-0.060) for {'C': 1, 'gamma': 'scale', 'kernel': 'rbf'}\n",
      "nan (+/-nan) for {'C': 1, 'gamma': 'scale', 'kernel': 'sigmod'}\n",
      "0.768 (+/-0.035) for {'C': 1, 'gamma': 'auto', 'kernel': 'rbf'}\n",
      "nan (+/-nan) for {'C': 1, 'gamma': 'auto', 'kernel': 'sigmod'}\n",
      "0.777 (+/-0.100) for {'C': 10, 'gamma': 0.001, 'kernel': 'rbf'}\n",
      "nan (+/-nan) for {'C': 10, 'gamma': 0.001, 'kernel': 'sigmod'}\n",
      "0.500 (+/-0.000) for {'C': 10, 'gamma': 0.0001, 'kernel': 'rbf'}\n",
      "nan (+/-nan) for {'C': 10, 'gamma': 0.0001, 'kernel': 'sigmod'}\n",
      "0.500 (+/-0.000) for {'C': 10, 'gamma': 1e-05, 'kernel': 'rbf'}\n",
      "nan (+/-nan) for {'C': 10, 'gamma': 1e-05, 'kernel': 'sigmod'}\n",
      "0.922 (+/-0.060) for {'C': 10, 'gamma': 'scale', 'kernel': 'rbf'}\n",
      "nan (+/-nan) for {'C': 10, 'gamma': 'scale', 'kernel': 'sigmod'}\n",
      "0.847 (+/-0.062) for {'C': 10, 'gamma': 'auto', 'kernel': 'rbf'}\n",
      "nan (+/-nan) for {'C': 10, 'gamma': 'auto', 'kernel': 'sigmod'}\n",
      "0.855 (+/-0.063) for {'C': 100, 'gamma': 0.001, 'kernel': 'rbf'}\n",
      "nan (+/-nan) for {'C': 100, 'gamma': 0.001, 'kernel': 'sigmod'}\n",
      "0.777 (+/-0.100) for {'C': 100, 'gamma': 0.0001, 'kernel': 'rbf'}\n",
      "nan (+/-nan) for {'C': 100, 'gamma': 0.0001, 'kernel': 'sigmod'}\n",
      "0.500 (+/-0.000) for {'C': 100, 'gamma': 1e-05, 'kernel': 'rbf'}\n",
      "nan (+/-nan) for {'C': 100, 'gamma': 1e-05, 'kernel': 'sigmod'}\n",
      "0.913 (+/-0.050) for {'C': 100, 'gamma': 'scale', 'kernel': 'rbf'}\n",
      "nan (+/-nan) for {'C': 100, 'gamma': 'scale', 'kernel': 'sigmod'}\n",
      "0.877 (+/-0.066) for {'C': 100, 'gamma': 'auto', 'kernel': 'rbf'}\n",
      "nan (+/-nan) for {'C': 100, 'gamma': 'auto', 'kernel': 'sigmod'}\n",
      "0.879 (+/-0.071) for {'C': 1000, 'gamma': 0.001, 'kernel': 'rbf'}\n",
      "nan (+/-nan) for {'C': 1000, 'gamma': 0.001, 'kernel': 'sigmod'}\n",
      "0.855 (+/-0.063) for {'C': 1000, 'gamma': 0.0001, 'kernel': 'rbf'}\n",
      "nan (+/-nan) for {'C': 1000, 'gamma': 0.0001, 'kernel': 'sigmod'}\n",
      "0.777 (+/-0.100) for {'C': 1000, 'gamma': 1e-05, 'kernel': 'rbf'}\n",
      "nan (+/-nan) for {'C': 1000, 'gamma': 1e-05, 'kernel': 'sigmod'}\n",
      "0.913 (+/-0.050) for {'C': 1000, 'gamma': 'scale', 'kernel': 'rbf'}\n",
      "nan (+/-nan) for {'C': 1000, 'gamma': 'scale', 'kernel': 'sigmod'}\n",
      "0.898 (+/-0.039) for {'C': 1000, 'gamma': 'auto', 'kernel': 'rbf'}\n",
      "nan (+/-nan) for {'C': 1000, 'gamma': 'auto', 'kernel': 'sigmod'}\n",
      "\n",
      "Detailed classification report:\n",
      "\n",
      "The model is trained on the full development set.\n",
      "The scores are computed on the full evaluation set.\n",
      "\n",
      "              precision    recall  f1-score   support\n",
      "\n",
      "           0       0.95      0.94      0.94       256\n",
      "           1       0.94      0.95      0.95       268\n",
      "\n",
      "    accuracy                           0.94       524\n",
      "   macro avg       0.94      0.94      0.94       524\n",
      "weighted avg       0.94      0.94      0.94       524\n",
      "\n"
     ]
    }
   ],
   "source": [
    "for score in scores:\n",
    "    print(\"# Tuning hyper-parameters for %s\" % score)\n",
    "    print()\n",
    "\n",
    "    clf = GridSearchCV(\n",
    "        SVC(), tuned_parameters, scoring='%s_macro' % score\n",
    "    )\n",
    "    clf.fit(X_train, y_train)\n",
    "\n",
    "    print(\"Best parameters set found on development set:\")\n",
    "    print()\n",
    "    print(clf.best_params_)\n",
    "    print()\n",
    "    print(\"Grid scores on development set:\")\n",
    "    print()\n",
    "    means = clf.cv_results_['mean_test_score']\n",
    "    stds = clf.cv_results_['std_test_score']\n",
    "    for mean, std, params in zip(means, stds, clf.cv_results_['params']):\n",
    "        print(\"%0.3f (+/-%0.03f) for %r\"\n",
    "              % (mean, std * 2, params))\n",
    "    print()\n",
    "\n",
    "    print(\"Detailed classification report:\")\n",
    "    print()\n",
    "    print(\"The model is trained on the full development set.\")\n",
    "    print(\"The scores are computed on the full evaluation set.\")\n",
    "    print()\n",
    "    y_true, y_pred = y_test, clf.predict(X_test)\n",
    "    print(classification_report(y_true, y_pred))"
   ]
  },
  {
   "cell_type": "code",
   "execution_count": null,
   "metadata": {},
   "outputs": [],
   "source": []
  }
 ],
 "metadata": {
  "kernelspec": {
   "display_name": "Intel laptop",
   "language": "python",
   "name": "intel-lpt"
  },
  "language_info": {
   "codemirror_mode": {
    "name": "ipython",
    "version": 3
   },
   "file_extension": ".py",
   "mimetype": "text/x-python",
   "name": "python",
   "nbconvert_exporter": "python",
   "pygments_lexer": "ipython3",
   "version": "3.7.9"
  }
 },
 "nbformat": 4,
 "nbformat_minor": 4
}
