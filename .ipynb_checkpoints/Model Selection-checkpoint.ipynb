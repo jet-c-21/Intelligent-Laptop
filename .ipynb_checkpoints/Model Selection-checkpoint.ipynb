{
 "cells": [
  {
   "cell_type": "code",
   "execution_count": 1,
   "metadata": {},
   "outputs": [],
   "source": [
    "from face_ult.model_updater import ModelUpdater"
   ]
  },
  {
   "cell_type": "code",
   "execution_count": 2,
   "metadata": {},
   "outputs": [],
   "source": [
    "mu = ModelUpdater()"
   ]
  },
  {
   "cell_type": "code",
   "execution_count": 3,
   "metadata": {},
   "outputs": [
    {
     "name": "stderr",
     "output_type": "stream",
     "text": [
      "  1%|          | 6/561 [00:00<01:08,  8.13it/s]"
     ]
    },
    {
     "name": "stdout",
     "output_type": "stream",
     "text": [
      "[WARN] face_ult.recog_tool ♦ failed to get face-embed cuz FaceCapture can't capture any faces\n"
     ]
    },
    {
     "name": "stderr",
     "output_type": "stream",
     "text": [
      "  2%|▏         | 10/561 [00:01<01:00,  9.05it/s]"
     ]
    },
    {
     "name": "stdout",
     "output_type": "stream",
     "text": [
      "[WARN] face_ult.recog_tool ♦ failed to get face-embed cuz FaceCapture can't capture any faces\n"
     ]
    },
    {
     "name": "stderr",
     "output_type": "stream",
     "text": [
      "  6%|▌         | 31/561 [00:03<00:54,  9.75it/s]"
     ]
    },
    {
     "name": "stdout",
     "output_type": "stream",
     "text": [
      "[WARN] face_ult.recog_tool ♦ failed to get face-embed cuz FaceCapture can't capture any faces\n"
     ]
    },
    {
     "name": "stderr",
     "output_type": "stream",
     "text": [
      "  7%|▋         | 38/561 [00:04<00:53,  9.84it/s]"
     ]
    },
    {
     "name": "stdout",
     "output_type": "stream",
     "text": [
      "[WARN] face_ult.recog_tool ♦ failed to get face-embed cuz FaceCapture can't capture any faces\n"
     ]
    },
    {
     "name": "stderr",
     "output_type": "stream",
     "text": [
      "  9%|▉         | 53/561 [00:05<00:51,  9.78it/s]"
     ]
    },
    {
     "name": "stdout",
     "output_type": "stream",
     "text": [
      "[WARN] face_ult.recog_tool ♦ failed to get face-embed cuz FaceCapture can't capture any faces\n"
     ]
    },
    {
     "name": "stderr",
     "output_type": "stream",
     "text": [
      "\r",
      " 10%|▉         | 55/561 [00:06<00:49, 10.13it/s]"
     ]
    },
    {
     "name": "stdout",
     "output_type": "stream",
     "text": [
      "[WARN] face_ult.recog_tool ♦ failed to get face-embed cuz FaceCapture can't capture any faces\n"
     ]
    },
    {
     "name": "stderr",
     "output_type": "stream",
     "text": [
      " 12%|█▏        | 66/561 [00:07<00:54,  9.09it/s]"
     ]
    },
    {
     "name": "stdout",
     "output_type": "stream",
     "text": [
      "[WARN] face_ult.recog_tool ♦ failed to get face-embed cuz FaceCapture can't capture any faces\n"
     ]
    },
    {
     "name": "stderr",
     "output_type": "stream",
     "text": [
      " 17%|█▋        | 94/561 [00:10<00:49,  9.50it/s]"
     ]
    },
    {
     "name": "stdout",
     "output_type": "stream",
     "text": [
      "[WARN] face_ult.recog_tool ♦ failed to get face-embed cuz FaceCapture can't capture any faces\n"
     ]
    },
    {
     "name": "stderr",
     "output_type": "stream",
     "text": [
      " 19%|█▉        | 107/561 [00:11<00:49,  9.25it/s]"
     ]
    },
    {
     "name": "stdout",
     "output_type": "stream",
     "text": [
      "[WARN] face_ult.recog_tool ♦ failed to get face-embed cuz FaceCapture can't capture any faces\n"
     ]
    },
    {
     "name": "stderr",
     "output_type": "stream",
     "text": [
      " 26%|██▌       | 144/561 [00:15<00:41,  9.95it/s]"
     ]
    },
    {
     "name": "stdout",
     "output_type": "stream",
     "text": [
      "[WARN] face_ult.recog_tool ♦ failed to get face-embed cuz FaceCapture can't capture any faces\n"
     ]
    },
    {
     "name": "stderr",
     "output_type": "stream",
     "text": [
      " 27%|██▋       | 151/561 [00:16<00:39, 10.41it/s]"
     ]
    },
    {
     "name": "stdout",
     "output_type": "stream",
     "text": [
      "[WARN] face_ult.recog_tool ♦ failed to get face-embed cuz FaceCapture can't capture any faces\n"
     ]
    },
    {
     "name": "stderr",
     "output_type": "stream",
     "text": [
      " 28%|██▊       | 157/561 [00:17<00:38, 10.50it/s]"
     ]
    },
    {
     "name": "stdout",
     "output_type": "stream",
     "text": [
      "[WARN] face_ult.recog_tool ♦ failed to get face-embed cuz FaceCapture can't capture any faces\n"
     ]
    },
    {
     "name": "stderr",
     "output_type": "stream",
     "text": [
      " 33%|███▎      | 184/561 [00:20<00:41,  8.99it/s]"
     ]
    },
    {
     "name": "stdout",
     "output_type": "stream",
     "text": [
      "[WARN] face_ult.recog_tool ♦ failed to get face-embed cuz FaceCapture can't capture any faces\n"
     ]
    },
    {
     "name": "stderr",
     "output_type": "stream",
     "text": [
      "\r",
      " 33%|███▎      | 186/561 [00:20<00:44,  8.51it/s]"
     ]
    },
    {
     "name": "stdout",
     "output_type": "stream",
     "text": [
      "[WARN] face_ult.recog_tool ♦ failed to get face-embed cuz FaceCapture can't capture any faces\n"
     ]
    },
    {
     "name": "stderr",
     "output_type": "stream",
     "text": [
      " 38%|███▊      | 214/561 [00:23<00:34, 10.17it/s]"
     ]
    },
    {
     "name": "stdout",
     "output_type": "stream",
     "text": [
      "[WARN] face_ult.recog_tool ♦ failed to get face-embed cuz FaceCapture can't capture any faces\n",
      "[WARN] face_ult.recog_tool ♦ failed to get face-embed cuz FaceCapture can't capture any faces\n"
     ]
    },
    {
     "name": "stderr",
     "output_type": "stream",
     "text": [
      " 41%|████      | 231/561 [00:25<00:32, 10.19it/s]"
     ]
    },
    {
     "name": "stdout",
     "output_type": "stream",
     "text": [
      "[WARN] face_ult.recog_tool ♦ failed to get face-embed cuz FaceCapture can't capture any faces\n"
     ]
    },
    {
     "name": "stderr",
     "output_type": "stream",
     "text": [
      " 42%|████▏     | 237/561 [00:26<00:31, 10.26it/s]"
     ]
    },
    {
     "name": "stdout",
     "output_type": "stream",
     "text": [
      "[WARN] face_ult.recog_tool ♦ failed to get face-embed cuz FaceCapture can't capture any faces\n"
     ]
    },
    {
     "name": "stderr",
     "output_type": "stream",
     "text": [
      " 52%|█████▏    | 292/561 [00:32<00:27,  9.69it/s]"
     ]
    },
    {
     "name": "stdout",
     "output_type": "stream",
     "text": [
      "[WARN] face_ult.recog_tool ♦ failed to get face-embed cuz FaceCapture can't capture any faces\n"
     ]
    },
    {
     "name": "stderr",
     "output_type": "stream",
     "text": [
      " 53%|█████▎    | 296/561 [00:32<00:26,  9.92it/s]"
     ]
    },
    {
     "name": "stdout",
     "output_type": "stream",
     "text": [
      "[WARN] face_ult.recog_tool ♦ failed to get face-embed cuz FaceCapture can't capture any faces\n"
     ]
    },
    {
     "name": "stderr",
     "output_type": "stream",
     "text": [
      " 54%|█████▍    | 304/561 [00:33<00:24, 10.43it/s]"
     ]
    },
    {
     "name": "stdout",
     "output_type": "stream",
     "text": [
      "[WARN] face_ult.recog_tool ♦ failed to get face-embed cuz FaceCapture can't capture any faces\n"
     ]
    },
    {
     "name": "stderr",
     "output_type": "stream",
     "text": [
      " 57%|█████▋    | 318/561 [00:34<00:25,  9.55it/s]"
     ]
    },
    {
     "name": "stdout",
     "output_type": "stream",
     "text": [
      "[WARN] face_ult.recog_tool ♦ failed to get face-embed cuz FaceCapture can't capture any faces\n"
     ]
    },
    {
     "name": "stderr",
     "output_type": "stream",
     "text": [
      " 59%|█████▉    | 333/561 [00:36<00:22, 10.31it/s]"
     ]
    },
    {
     "name": "stdout",
     "output_type": "stream",
     "text": [
      "[WARN] face_ult.recog_tool ♦ failed to get face-embed cuz FaceCapture can't capture any faces\n"
     ]
    },
    {
     "name": "stderr",
     "output_type": "stream",
     "text": [
      " 65%|██████▍   | 364/561 [00:39<00:20,  9.65it/s]"
     ]
    },
    {
     "name": "stdout",
     "output_type": "stream",
     "text": [
      "[WARN] face_ult.recog_tool ♦ failed to get face-embed cuz FaceCapture can't capture any faces\n",
      "[WARN] face_ult.recog_tool ♦ failed to get face-embed cuz FaceCapture can't capture any faces\n"
     ]
    },
    {
     "name": "stderr",
     "output_type": "stream",
     "text": [
      " 67%|██████▋   | 374/561 [00:40<00:18,  9.99it/s]"
     ]
    },
    {
     "name": "stdout",
     "output_type": "stream",
     "text": [
      "[WARN] face_ult.recog_tool ♦ failed to get face-embed cuz FaceCapture can't capture any faces\n"
     ]
    },
    {
     "name": "stderr",
     "output_type": "stream",
     "text": [
      " 67%|██████▋   | 378/561 [00:41<00:16, 11.17it/s]"
     ]
    },
    {
     "name": "stdout",
     "output_type": "stream",
     "text": [
      "[WARN] face_ult.recog_tool ♦ failed to get face-embed cuz FaceCapture can't capture any faces\n"
     ]
    },
    {
     "name": "stderr",
     "output_type": "stream",
     "text": [
      " 70%|███████   | 394/561 [00:42<00:16, 10.02it/s]"
     ]
    },
    {
     "name": "stdout",
     "output_type": "stream",
     "text": [
      "[WARN] face_ult.recog_tool ♦ failed to get face-embed cuz FaceCapture can't capture any faces\n"
     ]
    },
    {
     "name": "stderr",
     "output_type": "stream",
     "text": [
      " 76%|███████▌  | 425/561 [00:46<00:12, 10.85it/s]"
     ]
    },
    {
     "name": "stdout",
     "output_type": "stream",
     "text": [
      "[WARN] face_ult.recog_tool ♦ failed to get face-embed cuz FaceCapture can't capture any faces\n"
     ]
    },
    {
     "name": "stderr",
     "output_type": "stream",
     "text": [
      " 78%|███████▊  | 436/561 [00:47<00:13,  9.34it/s]"
     ]
    },
    {
     "name": "stdout",
     "output_type": "stream",
     "text": [
      "[WARN] face_ult.recog_tool ♦ failed to get face-embed cuz FaceCapture can't capture any faces\n"
     ]
    },
    {
     "name": "stderr",
     "output_type": "stream",
     "text": [
      " 79%|███████▉  | 444/561 [00:48<00:11,  9.82it/s]"
     ]
    },
    {
     "name": "stdout",
     "output_type": "stream",
     "text": [
      "[WARN] face_ult.recog_tool ♦ failed to get face-embed cuz FaceCapture can't capture any faces\n"
     ]
    },
    {
     "name": "stderr",
     "output_type": "stream",
     "text": [
      " 80%|████████  | 450/561 [00:48<00:10, 10.81it/s]"
     ]
    },
    {
     "name": "stdout",
     "output_type": "stream",
     "text": [
      "[WARN] face_ult.recog_tool ♦ failed to get face-embed cuz FaceCapture can't capture any faces\n"
     ]
    },
    {
     "name": "stderr",
     "output_type": "stream",
     "text": [
      " 82%|████████▏ | 458/561 [00:49<00:10,  9.78it/s]"
     ]
    },
    {
     "name": "stdout",
     "output_type": "stream",
     "text": [
      "[WARN] face_ult.recog_tool ♦ failed to get face-embed cuz FaceCapture can't capture any faces\n"
     ]
    },
    {
     "name": "stderr",
     "output_type": "stream",
     "text": [
      " 88%|████████▊ | 496/561 [00:54<00:07,  9.25it/s]"
     ]
    },
    {
     "name": "stdout",
     "output_type": "stream",
     "text": [
      "[WARN] face_ult.recog_tool ♦ failed to get face-embed cuz FaceCapture can't capture any faces\n"
     ]
    },
    {
     "name": "stderr",
     "output_type": "stream",
     "text": [
      " 91%|█████████▏| 513/561 [00:55<00:04, 10.32it/s]"
     ]
    },
    {
     "name": "stdout",
     "output_type": "stream",
     "text": [
      "[WARN] face_ult.recog_tool ♦ failed to get face-embed cuz FaceCapture can't capture any faces\n"
     ]
    },
    {
     "name": "stderr",
     "output_type": "stream",
     "text": [
      " 93%|█████████▎| 520/561 [00:56<00:03, 10.28it/s]"
     ]
    },
    {
     "name": "stdout",
     "output_type": "stream",
     "text": [
      "[WARN] face_ult.recog_tool ♦ failed to get face-embed cuz FaceCapture can't capture any faces\n"
     ]
    },
    {
     "name": "stderr",
     "output_type": "stream",
     "text": [
      "100%|█████████▉| 559/561 [01:01<00:00,  7.98it/s]"
     ]
    },
    {
     "name": "stdout",
     "output_type": "stream",
     "text": [
      "[WARN] face_ult.recog_tool ♦ failed to get face-embed cuz FaceCapture can't capture any faces\n"
     ]
    },
    {
     "name": "stderr",
     "output_type": "stream",
     "text": [
      "100%|██████████| 561/561 [01:01<00:00,  9.16it/s]\n"
     ]
    }
   ],
   "source": [
    "mu.load_master_data()"
   ]
  },
  {
   "cell_type": "code",
   "execution_count": 4,
   "metadata": {},
   "outputs": [
    {
     "data": {
      "text/plain": [
       "524"
      ]
     },
     "execution_count": 4,
     "metadata": {},
     "output_type": "execute_result"
    }
   ],
   "source": [
    "mu.master_count"
   ]
  },
  {
   "cell_type": "code",
   "execution_count": 5,
   "metadata": {},
   "outputs": [
    {
     "name": "stderr",
     "output_type": "stream",
     "text": [
      "  1%|          | 54/10422 [00:04<13:39, 12.64it/s]"
     ]
    },
    {
     "name": "stdout",
     "output_type": "stream",
     "text": [
      "[WARN] face_ult.recog_tool ♦ failed to get face-embed cuz FaceCapture can't capture any faces\n"
     ]
    },
    {
     "name": "stderr",
     "output_type": "stream",
     "text": [
      "  1%|          | 82/10422 [00:07<13:12, 13.05it/s]"
     ]
    },
    {
     "name": "stdout",
     "output_type": "stream",
     "text": [
      "[WARN] face_ult.recog_tool ♦ failed to get face-embed cuz FaceCapture can't capture any faces\n"
     ]
    },
    {
     "name": "stderr",
     "output_type": "stream",
     "text": [
      "  2%|▏         | 179/10422 [00:15<13:50, 12.33it/s]"
     ]
    },
    {
     "name": "stdout",
     "output_type": "stream",
     "text": [
      "[WARN] face_ult.recog_tool ♦ failed to get face-embed cuz FaceCapture can't capture any faces\n"
     ]
    },
    {
     "name": "stderr",
     "output_type": "stream",
     "text": [
      "  2%|▏         | 225/10422 [00:20<15:00, 11.32it/s]"
     ]
    },
    {
     "name": "stdout",
     "output_type": "stream",
     "text": [
      "[WARN] face_ult.recog_tool ♦ failed to get face-embed cuz FaceCapture can't capture any faces\n"
     ]
    },
    {
     "name": "stderr",
     "output_type": "stream",
     "text": [
      "  3%|▎         | 287/10422 [00:25<14:08, 11.95it/s]"
     ]
    },
    {
     "name": "stdout",
     "output_type": "stream",
     "text": [
      "[WARN] face_ult.recog_tool ♦ failed to get face-embed cuz FaceCapture can't capture any faces\n"
     ]
    },
    {
     "name": "stderr",
     "output_type": "stream",
     "text": [
      "  5%|▍         | 492/10422 [00:44<12:51, 12.86it/s]"
     ]
    },
    {
     "name": "stdout",
     "output_type": "stream",
     "text": [
      "[WARN] face_ult.recog_tool ♦ failed to get face-embed cuz FaceCapture can't capture any faces\n"
     ]
    },
    {
     "name": "stderr",
     "output_type": "stream",
     "text": [
      "  5%|▌         | 529/10422 [00:47<14:48, 11.13it/s]\n"
     ]
    }
   ],
   "source": [
    "mu.load_stranger_data()"
   ]
  },
  {
   "cell_type": "code",
   "execution_count": 6,
   "metadata": {},
   "outputs": [
    {
     "data": {
      "text/plain": [
       "524"
      ]
     },
     "execution_count": 6,
     "metadata": {},
     "output_type": "execute_result"
    }
   ],
   "source": [
    "mu.stranger_count"
   ]
  },
  {
   "cell_type": "code",
   "execution_count": 7,
   "metadata": {},
   "outputs": [],
   "source": [
    "from sklearn import datasets\n",
    "from sklearn.model_selection import train_test_split\n",
    "from sklearn.model_selection import GridSearchCV\n",
    "from sklearn.metrics import classification_report\n",
    "from sklearn.svm import SVC"
   ]
  },
  {
   "cell_type": "code",
   "execution_count": 8,
   "metadata": {},
   "outputs": [],
   "source": [
    "def warn(*args, **kwargs):\n",
    "    pass\n",
    "import warnings\n",
    "warnings.warn = warn"
   ]
  },
  {
   "cell_type": "code",
   "execution_count": 9,
   "metadata": {},
   "outputs": [],
   "source": [
    "X = mu.X\n",
    "y = mu.y"
   ]
  },
  {
   "cell_type": "code",
   "execution_count": 10,
   "metadata": {},
   "outputs": [],
   "source": [
    "X_train, X_test, y_train, y_test = train_test_split(\n",
    "    X, y, test_size=0.5, random_state=777)"
   ]
  },
  {
   "cell_type": "code",
   "execution_count": 11,
   "metadata": {},
   "outputs": [],
   "source": [
    "tuned_parameters = [\n",
    "    {\n",
    "        'kernel': ['rbf', 'sigmod'], \n",
    "        'gamma': [1e-3, 1e-4, 1e-5, 'scale', 'auto'],\n",
    "        'C': [1, 10, 100, 1000]\n",
    "    }\n",
    "]\n",
    "\n",
    "scores = ['precision', 'recall']"
   ]
  },
  {
   "cell_type": "code",
   "execution_count": 12,
   "metadata": {},
   "outputs": [
    {
     "name": "stdout",
     "output_type": "stream",
     "text": [
      "# Tuning hyper-parameters for precision\n",
      "\n",
      "Best parameters set found on development set:\n",
      "\n",
      "{'C': 10, 'gamma': 'scale', 'kernel': 'rbf'}\n",
      "\n",
      "Grid scores on development set:\n",
      "\n",
      "0.256 (+/-0.004) for {'C': 1, 'gamma': 0.001, 'kernel': 'rbf'}\n",
      "nan (+/-nan) for {'C': 1, 'gamma': 0.001, 'kernel': 'sigmod'}\n",
      "0.256 (+/-0.004) for {'C': 1, 'gamma': 0.0001, 'kernel': 'rbf'}\n",
      "nan (+/-nan) for {'C': 1, 'gamma': 0.0001, 'kernel': 'sigmod'}\n",
      "0.256 (+/-0.004) for {'C': 1, 'gamma': 1e-05, 'kernel': 'rbf'}\n",
      "nan (+/-nan) for {'C': 1, 'gamma': 1e-05, 'kernel': 'sigmod'}\n",
      "0.899 (+/-0.059) for {'C': 1, 'gamma': 'scale', 'kernel': 'rbf'}\n",
      "nan (+/-nan) for {'C': 1, 'gamma': 'scale', 'kernel': 'sigmod'}\n",
      "0.775 (+/-0.048) for {'C': 1, 'gamma': 'auto', 'kernel': 'rbf'}\n",
      "nan (+/-nan) for {'C': 1, 'gamma': 'auto', 'kernel': 'sigmod'}\n",
      "0.796 (+/-0.110) for {'C': 10, 'gamma': 0.001, 'kernel': 'rbf'}\n",
      "nan (+/-nan) for {'C': 10, 'gamma': 0.001, 'kernel': 'sigmod'}\n",
      "0.256 (+/-0.004) for {'C': 10, 'gamma': 0.0001, 'kernel': 'rbf'}\n",
      "nan (+/-nan) for {'C': 10, 'gamma': 0.0001, 'kernel': 'sigmod'}\n",
      "0.256 (+/-0.004) for {'C': 10, 'gamma': 1e-05, 'kernel': 'rbf'}\n",
      "nan (+/-nan) for {'C': 10, 'gamma': 1e-05, 'kernel': 'sigmod'}\n",
      "0.923 (+/-0.059) for {'C': 10, 'gamma': 'scale', 'kernel': 'rbf'}\n",
      "nan (+/-nan) for {'C': 10, 'gamma': 'scale', 'kernel': 'sigmod'}\n",
      "0.856 (+/-0.058) for {'C': 10, 'gamma': 'auto', 'kernel': 'rbf'}\n",
      "nan (+/-nan) for {'C': 10, 'gamma': 'auto', 'kernel': 'sigmod'}\n",
      "0.864 (+/-0.057) for {'C': 100, 'gamma': 0.001, 'kernel': 'rbf'}\n",
      "nan (+/-nan) for {'C': 100, 'gamma': 0.001, 'kernel': 'sigmod'}\n",
      "0.796 (+/-0.110) for {'C': 100, 'gamma': 0.0001, 'kernel': 'rbf'}\n",
      "nan (+/-nan) for {'C': 100, 'gamma': 0.0001, 'kernel': 'sigmod'}\n",
      "0.256 (+/-0.004) for {'C': 100, 'gamma': 1e-05, 'kernel': 'rbf'}\n",
      "nan (+/-nan) for {'C': 100, 'gamma': 1e-05, 'kernel': 'sigmod'}\n",
      "0.914 (+/-0.049) for {'C': 100, 'gamma': 'scale', 'kernel': 'rbf'}\n",
      "nan (+/-nan) for {'C': 100, 'gamma': 'scale', 'kernel': 'sigmod'}\n",
      "0.882 (+/-0.067) for {'C': 100, 'gamma': 'auto', 'kernel': 'rbf'}\n",
      "nan (+/-nan) for {'C': 100, 'gamma': 'auto', 'kernel': 'sigmod'}\n",
      "0.884 (+/-0.071) for {'C': 1000, 'gamma': 0.001, 'kernel': 'rbf'}\n",
      "nan (+/-nan) for {'C': 1000, 'gamma': 0.001, 'kernel': 'sigmod'}\n",
      "0.864 (+/-0.057) for {'C': 1000, 'gamma': 0.0001, 'kernel': 'rbf'}\n",
      "nan (+/-nan) for {'C': 1000, 'gamma': 0.0001, 'kernel': 'sigmod'}\n",
      "0.796 (+/-0.110) for {'C': 1000, 'gamma': 1e-05, 'kernel': 'rbf'}\n",
      "nan (+/-nan) for {'C': 1000, 'gamma': 1e-05, 'kernel': 'sigmod'}\n",
      "0.914 (+/-0.049) for {'C': 1000, 'gamma': 'scale', 'kernel': 'rbf'}\n",
      "nan (+/-nan) for {'C': 1000, 'gamma': 'scale', 'kernel': 'sigmod'}\n",
      "0.900 (+/-0.037) for {'C': 1000, 'gamma': 'auto', 'kernel': 'rbf'}\n",
      "nan (+/-nan) for {'C': 1000, 'gamma': 'auto', 'kernel': 'sigmod'}\n",
      "\n",
      "Detailed classification report:\n",
      "\n",
      "The model is trained on the full development set.\n",
      "The scores are computed on the full evaluation set.\n",
      "\n",
      "              precision    recall  f1-score   support\n",
      "\n",
      "           0       0.95      0.94      0.94       256\n",
      "           1       0.94      0.95      0.95       268\n",
      "\n",
      "    accuracy                           0.94       524\n",
      "   macro avg       0.94      0.94      0.94       524\n",
      "weighted avg       0.94      0.94      0.94       524\n",
      "\n",
      "# Tuning hyper-parameters for recall\n",
      "\n",
      "Best parameters set found on development set:\n",
      "\n",
      "{'C': 10, 'gamma': 'scale', 'kernel': 'rbf'}\n",
      "\n",
      "Grid scores on development set:\n",
      "\n",
      "0.500 (+/-0.000) for {'C': 1, 'gamma': 0.001, 'kernel': 'rbf'}\n",
      "nan (+/-nan) for {'C': 1, 'gamma': 0.001, 'kernel': 'sigmod'}\n",
      "0.500 (+/-0.000) for {'C': 1, 'gamma': 0.0001, 'kernel': 'rbf'}\n",
      "nan (+/-nan) for {'C': 1, 'gamma': 0.0001, 'kernel': 'sigmod'}\n",
      "0.500 (+/-0.000) for {'C': 1, 'gamma': 1e-05, 'kernel': 'rbf'}\n",
      "nan (+/-nan) for {'C': 1, 'gamma': 1e-05, 'kernel': 'sigmod'}\n",
      "0.894 (+/-0.060) for {'C': 1, 'gamma': 'scale', 'kernel': 'rbf'}\n",
      "nan (+/-nan) for {'C': 1, 'gamma': 'scale', 'kernel': 'sigmod'}\n",
      "0.768 (+/-0.035) for {'C': 1, 'gamma': 'auto', 'kernel': 'rbf'}\n",
      "nan (+/-nan) for {'C': 1, 'gamma': 'auto', 'kernel': 'sigmod'}\n",
      "0.777 (+/-0.100) for {'C': 10, 'gamma': 0.001, 'kernel': 'rbf'}\n",
      "nan (+/-nan) for {'C': 10, 'gamma': 0.001, 'kernel': 'sigmod'}\n",
      "0.500 (+/-0.000) for {'C': 10, 'gamma': 0.0001, 'kernel': 'rbf'}\n",
      "nan (+/-nan) for {'C': 10, 'gamma': 0.0001, 'kernel': 'sigmod'}\n",
      "0.500 (+/-0.000) for {'C': 10, 'gamma': 1e-05, 'kernel': 'rbf'}\n",
      "nan (+/-nan) for {'C': 10, 'gamma': 1e-05, 'kernel': 'sigmod'}\n",
      "0.922 (+/-0.060) for {'C': 10, 'gamma': 'scale', 'kernel': 'rbf'}\n",
      "nan (+/-nan) for {'C': 10, 'gamma': 'scale', 'kernel': 'sigmod'}\n",
      "0.847 (+/-0.062) for {'C': 10, 'gamma': 'auto', 'kernel': 'rbf'}\n",
      "nan (+/-nan) for {'C': 10, 'gamma': 'auto', 'kernel': 'sigmod'}\n",
      "0.855 (+/-0.063) for {'C': 100, 'gamma': 0.001, 'kernel': 'rbf'}\n",
      "nan (+/-nan) for {'C': 100, 'gamma': 0.001, 'kernel': 'sigmod'}\n",
      "0.777 (+/-0.100) for {'C': 100, 'gamma': 0.0001, 'kernel': 'rbf'}\n",
      "nan (+/-nan) for {'C': 100, 'gamma': 0.0001, 'kernel': 'sigmod'}\n",
      "0.500 (+/-0.000) for {'C': 100, 'gamma': 1e-05, 'kernel': 'rbf'}\n",
      "nan (+/-nan) for {'C': 100, 'gamma': 1e-05, 'kernel': 'sigmod'}\n",
      "0.913 (+/-0.050) for {'C': 100, 'gamma': 'scale', 'kernel': 'rbf'}\n",
      "nan (+/-nan) for {'C': 100, 'gamma': 'scale', 'kernel': 'sigmod'}\n",
      "0.877 (+/-0.066) for {'C': 100, 'gamma': 'auto', 'kernel': 'rbf'}\n",
      "nan (+/-nan) for {'C': 100, 'gamma': 'auto', 'kernel': 'sigmod'}\n",
      "0.879 (+/-0.071) for {'C': 1000, 'gamma': 0.001, 'kernel': 'rbf'}\n",
      "nan (+/-nan) for {'C': 1000, 'gamma': 0.001, 'kernel': 'sigmod'}\n",
      "0.855 (+/-0.063) for {'C': 1000, 'gamma': 0.0001, 'kernel': 'rbf'}\n",
      "nan (+/-nan) for {'C': 1000, 'gamma': 0.0001, 'kernel': 'sigmod'}\n",
      "0.777 (+/-0.100) for {'C': 1000, 'gamma': 1e-05, 'kernel': 'rbf'}\n",
      "nan (+/-nan) for {'C': 1000, 'gamma': 1e-05, 'kernel': 'sigmod'}\n",
      "0.913 (+/-0.050) for {'C': 1000, 'gamma': 'scale', 'kernel': 'rbf'}\n",
      "nan (+/-nan) for {'C': 1000, 'gamma': 'scale', 'kernel': 'sigmod'}\n",
      "0.898 (+/-0.039) for {'C': 1000, 'gamma': 'auto', 'kernel': 'rbf'}\n",
      "nan (+/-nan) for {'C': 1000, 'gamma': 'auto', 'kernel': 'sigmod'}\n",
      "\n",
      "Detailed classification report:\n",
      "\n",
      "The model is trained on the full development set.\n",
      "The scores are computed on the full evaluation set.\n",
      "\n",
      "              precision    recall  f1-score   support\n",
      "\n",
      "           0       0.95      0.94      0.94       256\n",
      "           1       0.94      0.95      0.95       268\n",
      "\n",
      "    accuracy                           0.94       524\n",
      "   macro avg       0.94      0.94      0.94       524\n",
      "weighted avg       0.94      0.94      0.94       524\n",
      "\n"
     ]
    }
   ],
   "source": [
    "for score in scores:\n",
    "    print(\"# Tuning hyper-parameters for %s\" % score)\n",
    "    print()\n",
    "\n",
    "    clf = GridSearchCV(\n",
    "        SVC(), tuned_parameters, scoring='%s_macro' % score\n",
    "    )\n",
    "    clf.fit(X_train, y_train)\n",
    "\n",
    "    print(\"Best parameters set found on development set:\")\n",
    "    print()\n",
    "    print(clf.best_params_)\n",
    "    print()\n",
    "    print(\"Grid scores on development set:\")\n",
    "    print()\n",
    "    means = clf.cv_results_['mean_test_score']\n",
    "    stds = clf.cv_results_['std_test_score']\n",
    "    for mean, std, params in zip(means, stds, clf.cv_results_['params']):\n",
    "        print(\"%0.3f (+/-%0.03f) for %r\"\n",
    "              % (mean, std * 2, params))\n",
    "    print()\n",
    "\n",
    "    print(\"Detailed classification report:\")\n",
    "    print()\n",
    "    print(\"The model is trained on the full development set.\")\n",
    "    print(\"The scores are computed on the full evaluation set.\")\n",
    "    print()\n",
    "    y_true, y_pred = y_test, clf.predict(X_test)\n",
    "    print(classification_report(y_true, y_pred))"
   ]
  },
  {
   "cell_type": "code",
   "execution_count": null,
   "metadata": {},
   "outputs": [],
   "source": []
  }
 ],
 "metadata": {
  "kernelspec": {
   "display_name": "Intel laptop",
   "language": "python",
   "name": "intel-lpt"
  },
  "language_info": {
   "codemirror_mode": {
    "name": "ipython",
    "version": 3
   },
   "file_extension": ".py",
   "mimetype": "text/x-python",
   "name": "python",
   "nbconvert_exporter": "python",
   "pygments_lexer": "ipython3",
   "version": "3.7.9"
  }
 },
 "nbformat": 4,
 "nbformat_minor": 4
}
